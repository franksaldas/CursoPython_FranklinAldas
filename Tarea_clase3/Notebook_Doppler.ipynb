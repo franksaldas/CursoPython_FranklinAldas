{
 "cells": [
  {
   "cell_type": "markdown",
   "id": "cf4a15b6",
   "metadata": {},
   "source": [
    "# Efecto Doppler y Corrimiento al rojo (Redshift)"
   ]
  },
  {
   "cell_type": "code",
   "execution_count": 4,
   "id": "60c5719a",
   "metadata": {},
   "outputs": [],
   "source": [
    "### Documento realizado para estudiantes de secundaria"
   ]
  },
  {
   "cell_type": "markdown",
   "id": "9d12e52d",
   "metadata": {},
   "source": [
    "El efecto Doppler es el aparente cambio de frecuencia de una onda debido al movimiento relativo de la fuente con el observador. Este efecto fue observado por primera vez por el físico Christian Andreas Doppler, al notar que el silbido de una locomotora se hacía más agudo al acercarse y más grave al alejarse. "
   ]
  },
  {
   "cell_type": "code",
   "execution_count": 1,
   "id": "a99ff0d6",
   "metadata": {},
   "outputs": [
    {
     "data": {
      "text/html": [
       "<img src=\"Images/redshift.png\" title=\"Doppler effect;)\" width=\"500\"/>\n"
      ],
      "text/plain": [
       "<IPython.core.display.HTML object>"
      ]
     },
     "metadata": {},
     "output_type": "display_data"
    }
   ],
   "source": [
    "%%html\n",
    "<img src=\"Images/redshift.png\" title=\"Doppler effect;)\" width=\"500\"/>"
   ]
  },
  {
   "cell_type": "markdown",
   "id": "9e1ec325",
   "metadata": {},
   "source": [
    "En el efecto Doppler clásico $(vF \\ll c)$, la frecuencia percibida por un receptor es igual a"
   ]
  },
  {
   "cell_type": "markdown",
   "id": "e1a96038",
   "metadata": {},
   "source": [
    "\\begin{equation}\n",
    "f' =f \\frac{v}{v\\pm v_F}\n",
    "\\end{equation}"
   ]
  },
  {
   "cell_type": "markdown",
   "id": "6d7be3b8",
   "metadata": {},
   "source": [
    "donde $f'$ es la frecuencia percibida por el receptor, f es la frecuencia emitida, v es la velocidad de propagación de la onda en el medio $y \\pm vF$ es la velocidad de la fuente, en donde consideramos como positiva si la fuente se aleja del receptor y negativa si la fuente se acerca.\n",
    "El efecto Doppler se encuentra presente en todas las ondas, incluidas las ondas electromagnéticas (luz). En este caso, podemos usar el efecto Doppler para saber si una estrella se aleja o se acerca a nosotros. Tomemos como punto de partida una estrella cuya luz emitida es amarilla. Es importante recordar que el color que percibimos de la luz está estrechamente relacionado con su frecuencia. Así, si la estrella amarilla se aleja de nosotros a gran velocidad, la frecuencia de la luz percibida disminuirá, mostrándose en un color enrojecido. A este efecto se le conoce como corrimiento hacia el rojo (redshift).\n",
    "La ley de Hubble es una ley de la física que establece que el corrimiento al rojo de una galaxia es proporcional a la distancia a la que está. En Astronomía es habitual referirse a este cambio de frecuencia utilizando la magnitud adimensional $z$ con $z > 0$ si el objeto observado se está alejando y $z < 0$ si el objeto se está acercando."
   ]
  },
  {
   "cell_type": "markdown",
   "id": "87dcc4de",
   "metadata": {},
   "source": [
    "La fórmula del corrimiento al rojo en función de la frecuencia está dada por"
   ]
  },
  {
   "cell_type": "markdown",
   "id": "1407e4d7",
   "metadata": {},
   "source": [
    "\\begin{equation}\n",
    "1+z = \\frac{f}{f'}\n",
    "\\end{equation}"
   ]
  },
  {
   "cell_type": "markdown",
   "id": "70ee8b73",
   "metadata": {},
   "source": [
    "mientras que la fórmula del corrimiento al rojo en función de la longitud de onda está dada por:"
   ]
  },
  {
   "cell_type": "markdown",
   "id": "d2d1c84d",
   "metadata": {},
   "source": [
    "\\begin{equation}\n",
    "1+z = \\frac{f}{f'}\n",
    "\\end{equation}"
   ]
  },
  {
   "cell_type": "markdown",
   "id": "6c642efc",
   "metadata": {},
   "source": [
    "en donde, $z$ toma valores distintos de acuerdo al mecanismo que genere el corrimiento al rojo. En este sentido, si consideramos:"
   ]
  },
  {
   "cell_type": "markdown",
   "id": "81dba2c4",
   "metadata": {},
   "source": [
    "## Corrimiento al rojo clásico:"
   ]
  },
  {
   "cell_type": "markdown",
   "id": "89b73ff7",
   "metadata": {},
   "source": [
    "Si la velocidad de la fuente es relativamente baja con respecto a c, entonces el parámetro z del corrimiento al rojo está dado por:\n",
    "    \\begin{equation}\n",
    "    z=v_f/c\n",
    "    \\end{equation}"
   ]
  },
  {
   "cell_type": "markdown",
   "id": "43ecd010",
   "metadata": {},
   "source": [
    "## Corrimiento al rojo relativista"
   ]
  },
  {
   "cell_type": "markdown",
   "id": "77fefd03",
   "metadata": {},
   "source": [
    "Si la fuente se mueve con velocidades altas respecto al observador\n",
    "$(∼ v_F ≥ 0.1c)$, entonces necesitamos incluir la corrección relativista de la siguiente manera:\n",
    "    \\begin{equation}\n",
    "    z=\\left( 1+ \\frac{v_f}{c}\\right) \\gamma-1\n",
    "    \\end{equation}"
   ]
  },
  {
   "cell_type": "markdown",
   "id": "4e8331c5",
   "metadata": {},
   "source": [
    "en donde $\\gamma$ es conocido como el factor de Lorentz y está dado por $\\gamma= \\frac{1}{\\sqrt{1- \\frac{v_F^2}{c^2}}}$"
   ]
  },
  {
   "cell_type": "markdown",
   "id": "61d3f132",
   "metadata": {},
   "source": [
    "## Ejemplo: "
   ]
  },
  {
   "cell_type": "markdown",
   "id": "7112bcbe",
   "metadata": {},
   "source": [
    "Una de las líneas del espectro ultravioleta de una galaxia distante, tiene una longitud de onda de $(\\lambda_s = 393 nm)$ el momento de ser emitida, sin embargo, se observa con $\\lambda_0 = 414 nm$, es decir, se encuentra desplazada a la parte visible del espectro. ¿A qué velocidad se aleja la galaxia de la Tierra?"
   ]
  },
  {
   "cell_type": "markdown",
   "id": "6ff5814c",
   "metadata": {},
   "source": [
    "### Desarrollo:"
   ]
  },
  {
   "cell_type": "markdown",
   "id": "383f8ae7",
   "metadata": {},
   "source": [
    "Sabemos que para una onda, la velocidad a la que se desplaza está relacionada con su longitud de onda y su frecuencia mediante: "
   ]
  },
  {
   "cell_type": "markdown",
   "id": "ec2bb519",
   "metadata": {},
   "source": [
    "\\begin{equation} v= f\\times \\lambda \\end{equation}"
   ]
  },
  {
   "cell_type": "markdown",
   "id": "3cce49cd",
   "metadata": {},
   "source": [
    "Por lo tanto, el redshift de la galaxia es:"
   ]
  },
  {
   "cell_type": "markdown",
   "id": "2607df91",
   "metadata": {},
   "source": [
    "\\begin{equation}\n",
    "z= \\frac{\\lambda _0}{\\lambda _s}-1\n",
    "\\end{equation}"
   ]
  },
  {
   "cell_type": "code",
   "execution_count": 2,
   "id": "d5489e08",
   "metadata": {},
   "outputs": [
    {
     "name": "stdout",
     "output_type": "stream",
     "text": [
      "El redshift de la galaxia es: 0.05343511450381677\n"
     ]
    }
   ],
   "source": [
    "lambda_s=393\n",
    "lambda_0=414\n",
    "z=lambda_0/lambda_s-1\n",
    "print(f'El redshift de la galaxia es: {z}')"
   ]
  },
  {
   "cell_type": "markdown",
   "id": "d7401b1a",
   "metadata": {},
   "source": [
    "Además el redshift se relaciona con la velocidad de la galaxia por: \n",
    "\\begin{equation}\n",
    "v=z*c\n",
    "\\end{equation}"
   ]
  },
  {
   "cell_type": "code",
   "execution_count": 3,
   "id": "19e1553f",
   "metadata": {},
   "outputs": [
    {
     "name": "stdout",
     "output_type": "stream",
     "text": [
      "La galaxia se está alejando de nosotros a una velocidad de 16030.53435114503 km/s\n"
     ]
    }
   ],
   "source": [
    "c=3e8 ###velocidad de la luz en m/s\n",
    "v=z* c\n",
    "print(f'La galaxia se está alejando de nosotros a una velocidad de {v/1000} km/s')"
   ]
  },
  {
   "cell_type": "code",
   "execution_count": null,
   "id": "26490d11",
   "metadata": {},
   "outputs": [],
   "source": []
  }
 ],
 "metadata": {
  "kernelspec": {
   "display_name": "Python 3",
   "language": "python",
   "name": "python3"
  },
  "language_info": {
   "codemirror_mode": {
    "name": "ipython",
    "version": 3
   },
   "file_extension": ".py",
   "mimetype": "text/x-python",
   "name": "python",
   "nbconvert_exporter": "python",
   "pygments_lexer": "ipython3",
   "version": "3.9.5"
  }
 },
 "nbformat": 4,
 "nbformat_minor": 5
}
