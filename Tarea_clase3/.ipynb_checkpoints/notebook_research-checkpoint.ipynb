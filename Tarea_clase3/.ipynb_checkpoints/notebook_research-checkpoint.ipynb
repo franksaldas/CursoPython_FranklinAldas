{
 "cells": [
  {
   "cell_type": "markdown",
   "id": "e0c8b177",
   "metadata": {},
   "source": [
    "# Cluster membership studying the Line of Sight Velocities Distribution."
   ]
  },
  {
   "cell_type": "markdown",
   "id": "1f423328",
   "metadata": {},
   "source": [
    "We used the IllustrisTNG simulations to study the cluster membership of  satellites galaxies. We selected a sample of 80 clusters with masses  between $ 4\\times 10^{14} M_\\odot \\leq M_{200}\\leq \\times 10^{9e14}{M_\\odot}$ and redshift  between $0.1\\leq z\\leq 1$ \\[Nelson 2017, Pillepich 2017, Naiman 2018, Marinacci 2018, Springel 2017\\].  To avoid no physical detection we selected galaxies with at least 1000 dark matter particles per galaxy  ( $M_{DM}\\geq 5.9\\times 10^{10}M_\\odot$ ) and at least 100 stellar particles ( $M_{stellar}\\geq 1.1\\times 10^{9} M_\\odot$). The final sample has 80 virialized and disturbed clusters and   9163 galaxies.  \n",
    "\n",
    "The cluster velocities dispersion is mass dependent, more massive clusters have greater velocities dispersion \\cite{Beers1990, Evrard2008}. A quantitative description of mass- velocity dispersion was given by Saro, et. al. with the following equation: \n",
    "\\begin{equation}\n",
    "M_{dyn}= \\left(\\frac{\\sigma_\\nu}{A\\times h_{70} (z)^c}\\right)^{B} 10^{15} M_{\\odot}\n",
    "\\label{saros}\n",
    "\\end{equation}\n",
    "where $A=939$, $B=2.91$, and $C=0.33$.  Our objective is to find the intrinsic Light of Sight velocity distribution for a theoretical cluster with a mass of $M_{200}=5\\times 10^{14}M_\\odot$ at redshift $z=0.1$, which is representative for our sample. First,  we fitted the  3D velocities  distribution of the galaxies relative to the BCG using a Gaussian with mean $\\mu_0$ and dispersion $\\sigma_0$. After, we compute the  value of the 3D velocity dispersion $\\sigma_1$ that the cluster would have if it had a mass of $M_{200}=5\\times 10^{14}{M_\\odot}$ using the Equation presented before. Finally,   we obtain the theoretical 3D velocities for each galaxy normalized by the mass and the redshift using: \n",
    "\\begin{equation}\n",
    "z=\\sigma_1 \\left( \\frac{x-\\mu_0}{\\sigma_0} +\\mu_0\\right)\n",
    "\\end{equation}"
   ]
  },
  {
   "cell_type": "markdown",
   "id": "5dfcf6f2",
   "metadata": {},
   "source": [
    "Next Figure presents the histogram of the  stacked LOS velocities for the galaxies in  200 different  projections (blue),  the best fit normal distribution (red), and the confidence intervals in light red. We conclude that for a theoretical cluster of mass  $M_{200}=5\\times 10^{14}M_\\odot$, the LOS velocities are normally distributed with a dispersion of $\\sigma= 816\\; km \\cdot s^{1}$.  "
   ]
  },
  {
   "cell_type": "code",
   "execution_count": 1,
   "id": "b783d64d",
   "metadata": {},
   "outputs": [
    {
     "data": {
      "text/html": [
       "<img src=\"Images/vel_distribution.png\" title=\"I am a small kitten now ;)\" width=\"500\"/>\n"
      ],
      "text/plain": [
       "<IPython.core.display.HTML object>"
      ]
     },
     "metadata": {},
     "output_type": "display_data"
    }
   ],
   "source": [
    "%%html\n",
    "<img src=\"Images/vel_distribution.png\" title=\"I am a small kitten now ;)\" width=\"500\"/>"
   ]
  },
  {
   "cell_type": "code",
   "execution_count": null,
   "id": "6ab725ef",
   "metadata": {},
   "outputs": [],
   "source": []
  }
 ],
 "metadata": {
  "kernelspec": {
   "display_name": "Python 3",
   "language": "python",
   "name": "python3"
  },
  "language_info": {
   "codemirror_mode": {
    "name": "ipython",
    "version": 3
   },
   "file_extension": ".py",
   "mimetype": "text/x-python",
   "name": "python",
   "nbconvert_exporter": "python",
   "pygments_lexer": "ipython3",
   "version": "3.9.5"
  }
 },
 "nbformat": 4,
 "nbformat_minor": 5
}
